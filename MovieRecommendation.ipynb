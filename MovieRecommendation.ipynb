{
  "nbformat": 4,
  "nbformat_minor": 0,
  "metadata": {
    "colab": {
      "name": "MovieRecommendation.ipynb",
      "version": "0.3.2",
      "provenance": [],
      "include_colab_link": true
    },
    "kernelspec": {
      "name": "python3",
      "display_name": "Python 3"
    },
    "accelerator": "GPU"
  },
  "cells": [
    {
      "cell_type": "markdown",
      "metadata": {
        "id": "view-in-github",
        "colab_type": "text"
      },
      "source": [
        "[View in Colaboratory](https://colab.research.google.com/github/sanattaori/Recommender-System/blob/master/MovieRecommendation.ipynb)"
      ]
    },
    {
      "metadata": {
        "id": "J6H-IfXY2Vlp",
        "colab_type": "text"
      },
      "cell_type": "markdown",
      "source": [
        "# Movie Recommendation System using lightfm"
      ]
    },
    {
      "metadata": {
        "id": "MryX8EtI2_gd",
        "colab_type": "code",
        "colab": {
          "base_uri": "https://localhost:8080/",
          "height": 161
        },
        "outputId": "14122fb5-1132-4a06-b65e-b3085b57009a"
      },
      "cell_type": "code",
      "source": [
        "!pip install lightfm"
      ],
      "execution_count": 1,
      "outputs": [
        {
          "output_type": "stream",
          "text": [
            "Requirement already satisfied: lightfm in /usr/local/lib/python3.6/dist-packages (1.15)\r\n",
            "Requirement already satisfied: requests in /usr/local/lib/python3.6/dist-packages (from lightfm) (2.18.4)\r\n",
            "Requirement already satisfied: scipy>=0.17.0 in /usr/local/lib/python3.6/dist-packages (from lightfm) (0.19.1)\r\n",
            "Requirement already satisfied: numpy in /usr/local/lib/python3.6/dist-packages (from lightfm) (1.14.5)\r\n",
            "Requirement already satisfied: urllib3<1.23,>=1.21.1 in /usr/local/lib/python3.6/dist-packages (from requests->lightfm) (1.22)\n",
            "Requirement already satisfied: chardet<3.1.0,>=3.0.2 in /usr/local/lib/python3.6/dist-packages (from requests->lightfm) (3.0.4)\n",
            "Requirement already satisfied: certifi>=2017.4.17 in /usr/local/lib/python3.6/dist-packages (from requests->lightfm) (2018.8.13)\n",
            "Requirement already satisfied: idna<2.7,>=2.5 in /usr/local/lib/python3.6/dist-packages (from requests->lightfm) (2.6)\n"
          ],
          "name": "stdout"
        }
      ]
    },
    {
      "metadata": {
        "id": "rG5bqH3T2TgQ",
        "colab_type": "code",
        "colab": {}
      },
      "cell_type": "code",
      "source": [
        "# imports\n",
        "import numpy as np\n",
        "\n",
        "from lightfm.datasets import fetch_movielens\n",
        "from lightfm import LightFM"
      ],
      "execution_count": 0,
      "outputs": []
    },
    {
      "metadata": {
        "id": "T0lzhjzY49OL",
        "colab_type": "text"
      },
      "cell_type": "markdown",
      "source": [
        "### Movielens dataset \n",
        "*https://github.com/lyst/lightfm/blob/master/lightfm/datasets/movielens.py#L107*\n"
      ]
    },
    {
      "metadata": {
        "id": "R0biDSOQ2sng",
        "colab_type": "code",
        "colab": {}
      },
      "cell_type": "code",
      "source": [
        "# dataset\n",
        "data = fetch_movielens(min_rating=4.0)\n"
      ],
      "execution_count": 0,
      "outputs": []
    },
    {
      "metadata": {
        "id": "ExQb8rBj3ZY0",
        "colab_type": "code",
        "colab": {
          "base_uri": "https://localhost:8080/",
          "height": 89
        },
        "outputId": "e94b16f6-846c-42a2-ed80-b29e33210d50"
      },
      "cell_type": "code",
      "source": [
        "print(repr(data['train']))\n",
        "print(repr(data['test']))"
      ],
      "execution_count": 4,
      "outputs": [
        {
          "output_type": "stream",
          "text": [
            "<943x1682 sparse matrix of type '<class 'numpy.int32'>'\n",
            "\twith 49906 stored elements in COOrdinate format>\n",
            "<943x1682 sparse matrix of type '<class 'numpy.int32'>'\n",
            "\twith 5469 stored elements in COOrdinate format>\n"
          ],
          "name": "stdout"
        }
      ]
    },
    {
      "metadata": {
        "id": "yBs126Bg5rDG",
        "colab_type": "code",
        "colab": {
          "base_uri": "https://localhost:8080/",
          "height": 181
        },
        "outputId": "a52be213-0c73-42a2-8f75-420d3fd4c328"
      },
      "cell_type": "code",
      "source": [
        "print(data)"
      ],
      "execution_count": 5,
      "outputs": [
        {
          "output_type": "stream",
          "text": [
            "{'train': <943x1682 sparse matrix of type '<class 'numpy.int32'>'\n",
            "\twith 49906 stored elements in COOrdinate format>, 'test': <943x1682 sparse matrix of type '<class 'numpy.int32'>'\n",
            "\twith 5469 stored elements in COOrdinate format>, 'item_features': <1682x1682 sparse matrix of type '<class 'numpy.float32'>'\n",
            "\twith 1682 stored elements in Compressed Sparse Row format>, 'item_feature_labels': array(['Toy Story (1995)', 'GoldenEye (1995)', 'Four Rooms (1995)', ...,\n",
            "       'Sliding Doors (1998)', 'You So Crazy (1994)',\n",
            "       'Scream of Stone (Schrei aus Stein) (1991)'], dtype=object), 'item_labels': array(['Toy Story (1995)', 'GoldenEye (1995)', 'Four Rooms (1995)', ...,\n",
            "       'Sliding Doors (1998)', 'You So Crazy (1994)',\n",
            "       'Scream of Stone (Schrei aus Stein) (1991)'], dtype=object)}\n"
          ],
          "name": "stdout"
        }
      ]
    },
    {
      "metadata": {
        "id": "9ubOMOs87Met",
        "colab_type": "text"
      },
      "cell_type": "markdown",
      "source": [
        "### Using wrap loss function\n",
        "*https://github.com/lyst/lightfm/blob/master/lightfm/lightfm.py#L53*"
      ]
    },
    {
      "metadata": {
        "id": "UPol-c7E3fcV",
        "colab_type": "code",
        "colab": {
          "base_uri": "https://localhost:8080/",
          "height": 503
        },
        "outputId": "739dfee8-d4da-4c48-b6ce-48412d97da34"
      },
      "cell_type": "code",
      "source": [
        "# create model using Weighted Approximate-Rank Pairwise loss function\n",
        "\n",
        "model = LightFM(loss='warp')\n",
        "\n",
        "#train model\n",
        "model.fit(data['train'], epochs=30, num_threads=2)\n",
        "\n",
        "\n",
        "def sample_recommendation(model, data, user_ids):\n",
        "\n",
        "    #number of users and movies in training data\n",
        "    n_users, n_items = data['train'].shape\n",
        "\n",
        "    #generate recommendations for each user we input\n",
        "    for user_id in user_ids:\n",
        "\n",
        "        #movies they already like\n",
        "        user_positives = data['item_labels'][data['train'].tocsr()[user_id].indices]\n",
        "\n",
        "        #movies our model predicts they will like\n",
        "        scores = model.predict(user_id, np.arange(n_items))\n",
        "        \n",
        "        #rank them in order of most liked to least\n",
        "        top_items = data['item_labels'][np.argsort(-scores)]\n",
        "\n",
        "        #print out the results\n",
        "        print(\"User %s\" % user_id)\n",
        "        print(\"Users knowns\")\n",
        "\n",
        "        for x in user_positives[:3]:\n",
        "            print(\"           %s\" % x)\n",
        "\n",
        "        print(\"user Recommended:\")\n",
        "\n",
        "        for x in top_items[:3]:\n",
        "            print(\"           Ranking %s\" % x)\n",
        "            \n",
        "sample_recommendation(model, data, [3, 25, 450])"
      ],
      "execution_count": 7,
      "outputs": [
        {
          "output_type": "stream",
          "text": [
            "User 3\n",
            "Users knowns\n",
            "           Seven (Se7en) (1995)\n",
            "           Contact (1997)\n",
            "           Starship Troopers (1997)\n",
            "user Recommended:\n",
            "           Ranking Scream (1996)\n",
            "           Ranking Air Force One (1997)\n",
            "           Ranking Game, The (1997)\n",
            "User 25\n",
            "Users knowns\n",
            "           Dead Man Walking (1995)\n",
            "           Star Wars (1977)\n",
            "           Fargo (1996)\n",
            "user Recommended:\n",
            "           Ranking Contact (1997)\n",
            "           Ranking Fargo (1996)\n",
            "           Ranking English Patient, The (1996)\n",
            "User 450\n",
            "Users knowns\n",
            "           Contact (1997)\n",
            "           George of the Jungle (1997)\n",
            "           Event Horizon (1997)\n",
            "user Recommended:\n",
            "           Ranking Air Force One (1997)\n",
            "           Ranking Conspiracy Theory (1997)\n",
            "           Ranking Game, The (1997)\n"
          ],
          "name": "stdout"
        }
      ]
    },
    {
      "metadata": {
        "id": "15PrOUAA3vSJ",
        "colab_type": "code",
        "colab": {}
      },
      "cell_type": "code",
      "source": [
        ""
      ],
      "execution_count": 0,
      "outputs": []
    }
  ]
}